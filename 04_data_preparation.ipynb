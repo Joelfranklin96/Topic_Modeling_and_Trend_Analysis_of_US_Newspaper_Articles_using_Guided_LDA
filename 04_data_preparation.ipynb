{
 "cells": [
  {
   "cell_type": "markdown",
   "id": "ef41ea53",
   "metadata": {},
   "source": [
    "## Importing the packages"
   ]
  },
  {
   "cell_type": "code",
   "execution_count": 1,
   "id": "77d10b79-d3d2-4457-98a2-8a9d6a470f82",
   "metadata": {},
   "outputs": [
    {
     "name": "stderr",
     "output_type": "stream",
     "text": [
      "C:\\Users\\Joel\\AppData\\Roaming\\Python\\Python311\\site-packages\\pandas\\core\\arrays\\masked.py:60: UserWarning: Pandas requires version '1.3.6' or newer of 'bottleneck' (version '1.3.5' currently installed).\n",
      "  from pandas.core import (\n"
     ]
    }
   ],
   "source": [
    "import pandas as pd\n",
    "import os\n",
    "import re\n",
    "import nltk\n",
    "from nltk.corpus import stopwords\n",
    "from nltk.stem import WordNetLemmatizer"
   ]
  },
  {
   "cell_type": "markdown",
   "id": "34a79e8e",
   "metadata": {},
   "source": [
    "## Loading the Data"
   ]
  },
  {
   "cell_type": "code",
   "execution_count": 2,
   "id": "166bc939",
   "metadata": {},
   "outputs": [
    {
     "data": {
      "text/html": [
       "<div>\n",
       "<style scoped>\n",
       "    .dataframe tbody tr th:only-of-type {\n",
       "        vertical-align: middle;\n",
       "    }\n",
       "\n",
       "    .dataframe tbody tr th {\n",
       "        vertical-align: top;\n",
       "    }\n",
       "\n",
       "    .dataframe thead th {\n",
       "        text-align: right;\n",
       "    }\n",
       "</style>\n",
       "<table border=\"1\" class=\"dataframe\">\n",
       "  <thead>\n",
       "    <tr style=\"text-align: right;\">\n",
       "      <th></th>\n",
       "      <th>article_id</th>\n",
       "      <th>newspaper_name</th>\n",
       "      <th>edition</th>\n",
       "      <th>date</th>\n",
       "      <th>page</th>\n",
       "      <th>headline</th>\n",
       "      <th>byline</th>\n",
       "      <th>article</th>\n",
       "    </tr>\n",
       "  </thead>\n",
       "  <tbody>\n",
       "    <tr>\n",
       "      <th>0</th>\n",
       "      <td>1_1960-11-10_p36_sn83045462_00280608075_196011...</td>\n",
       "      <td>Evening star.</td>\n",
       "      <td>1</td>\n",
       "      <td>1960-11-10</td>\n",
       "      <td>p36</td>\n",
       "      <td>Dark Names Lockmon ,\\njansen Giont Coaches</td>\n",
       "      <td>NaN</td>\n",
       "      <td>SAN FRANCISCO. Nov. 10\\n(AP).-Alvin Dark made ...</td>\n",
       "    </tr>\n",
       "    <tr>\n",
       "      <th>1</th>\n",
       "      <td>2_1960-11-10_p36_sn83045462_00280608075_196011...</td>\n",
       "      <td>Evening star.</td>\n",
       "      <td>1</td>\n",
       "      <td>1960-11-10</td>\n",
       "      <td>p36</td>\n",
       "      <td>FALONEY FIGURES IN SWAP\\n\\n\\nEtcheverry Deal R...</td>\n",
       "      <td>NaN</td>\n",
       "      <td>head last Saturday when Mon\\ntreal lost in q c...</td>\n",
       "    </tr>\n",
       "    <tr>\n",
       "      <th>2</th>\n",
       "      <td>3_1960-11-10_p36_sn83045462_00280608075_196011...</td>\n",
       "      <td>Evening star.</td>\n",
       "      <td>1</td>\n",
       "      <td>1960-11-10</td>\n",
       "      <td>p36</td>\n",
       "      <td>Home Ice Helps\\nChicago to Gain\\nLead in Leoque</td>\n",
       "      <td>BY the Associated Press</td>\n",
       "      <td>There's just no place like\\nhome as far as the...</td>\n",
       "    </tr>\n",
       "    <tr>\n",
       "      <th>3</th>\n",
       "      <td>4_1960-11-10_p36_sn83045462_00280608075_196011...</td>\n",
       "      <td>Evening star.</td>\n",
       "      <td>1</td>\n",
       "      <td>1960-11-10</td>\n",
       "      <td>p36</td>\n",
       "      <td>Chamberlain\\nFires In 4o\\nAgainst LA</td>\n",
       "      <td>b the Associated rfess</td>\n",
       "      <td>Wilt Chamberlain keeps on\\nscoring baskets and...</td>\n",
       "    </tr>\n",
       "    <tr>\n",
       "      <th>4</th>\n",
       "      <td>5_1960-11-10_p36_sn83045462_00280608075_196011...</td>\n",
       "      <td>Evening star.</td>\n",
       "      <td>1</td>\n",
       "      <td>1960-11-10</td>\n",
       "      <td>p36</td>\n",
       "      <td>NaN</td>\n",
       "      <td>NaN</td>\n",
       "      <td>raped a home run the first\\ntime he faced a ma...</td>\n",
       "    </tr>\n",
       "  </tbody>\n",
       "</table>\n",
       "</div>"
      ],
      "text/plain": [
       "                                          article_id newspaper_name  edition  \\\n",
       "0  1_1960-11-10_p36_sn83045462_00280608075_196011...  Evening star.        1   \n",
       "1  2_1960-11-10_p36_sn83045462_00280608075_196011...  Evening star.        1   \n",
       "2  3_1960-11-10_p36_sn83045462_00280608075_196011...  Evening star.        1   \n",
       "3  4_1960-11-10_p36_sn83045462_00280608075_196011...  Evening star.        1   \n",
       "4  5_1960-11-10_p36_sn83045462_00280608075_196011...  Evening star.        1   \n",
       "\n",
       "         date page                                           headline  \\\n",
       "0  1960-11-10  p36         Dark Names Lockmon ,\\njansen Giont Coaches   \n",
       "1  1960-11-10  p36  FALONEY FIGURES IN SWAP\\n\\n\\nEtcheverry Deal R...   \n",
       "2  1960-11-10  p36    Home Ice Helps\\nChicago to Gain\\nLead in Leoque   \n",
       "3  1960-11-10  p36               Chamberlain\\nFires In 4o\\nAgainst LA   \n",
       "4  1960-11-10  p36                                                NaN   \n",
       "\n",
       "                    byline                                            article  \n",
       "0                      NaN  SAN FRANCISCO. Nov. 10\\n(AP).-Alvin Dark made ...  \n",
       "1                      NaN  head last Saturday when Mon\\ntreal lost in q c...  \n",
       "2  BY the Associated Press  There's just no place like\\nhome as far as the...  \n",
       "3   b the Associated rfess  Wilt Chamberlain keeps on\\nscoring baskets and...  \n",
       "4                      NaN  raped a home run the first\\ntime he faced a ma...  "
      ]
     },
     "execution_count": 2,
     "metadata": {},
     "output_type": "execute_result"
    }
   ],
   "source": [
    "directory = \"D:/2_nlp\"\n",
    "# Define the file names\n",
    "file_name_250_MB = \"Last_25_years_250_MB_dataset.xlsx\"\n",
    "\n",
    "# Construct the full file paths\n",
    "file_path_250_MB = os.path.join(directory, file_name_250_MB)\n",
    "\n",
    "# Read the .xlsx files into DataFrames\n",
    "last_25_years_250_MB_df = pd.read_excel(file_path_250_MB)\n",
    "\n",
    "# Display the first few rows of the DataFrames\n",
    "last_25_years_250_MB_df.head()"
   ]
  },
  {
   "cell_type": "code",
   "execution_count": 3,
   "id": "1d9e41b9",
   "metadata": {
    "scrolled": true
   },
   "outputs": [
    {
     "name": "stderr",
     "output_type": "stream",
     "text": [
      "[nltk_data] Downloading package stopwords to\n",
      "[nltk_data]     C:\\Users\\Joel\\AppData\\Roaming\\nltk_data...\n",
      "[nltk_data]   Package stopwords is already up-to-date!\n",
      "[nltk_data] Downloading package wordnet to\n",
      "[nltk_data]     C:\\Users\\Joel\\AppData\\Roaming\\nltk_data...\n",
      "[nltk_data]   Package wordnet is already up-to-date!\n"
     ]
    },
    {
     "data": {
      "text/plain": [
       "True"
      ]
     },
     "execution_count": 3,
     "metadata": {},
     "output_type": "execute_result"
    }
   ],
   "source": [
    "# Ensure the necessary NLTK resources are downloaded\n",
    "nltk.download('stopwords')\n",
    "nltk.download('wordnet')"
   ]
  },
  {
   "cell_type": "markdown",
   "id": "bbc306b9",
   "metadata": {},
   "source": [
    "## Data Preparation"
   ]
  },
  {
   "cell_type": "code",
   "execution_count": 4,
   "id": "f69039cd",
   "metadata": {},
   "outputs": [],
   "source": [
    "def prepare_data(df):\n",
    "    \"\"\"\n",
    "    Prepares the data for topic modeling by concatenating headline and article,\n",
    "    cleaning and preprocessing the text.\n",
    "    \n",
    "    Parameters:\n",
    "    - df: DataFrame with the news articles and metadata.\n",
    "    \n",
    "    Returns:\n",
    "    - DataFrame with an additional column 'prepared_text' for analysis.\n",
    "    \"\"\"\n",
    "    \n",
    "    # Fill NaN values with empty strings to avoid type errors during concatenation\n",
    "    df['headline'] = df['headline'].fillna('')\n",
    "    df['article'] = df['article'].fillna('')\n",
    "    \n",
    "    # Concatenate 'headline' and 'article'\n",
    "    df['text_for_analysis'] = df['headline'] + \" \" + df['article']\n",
    "    \n",
    "    # Define a nested function for text preprocessing\n",
    "    def preprocess_text(text):\n",
    "        # Remove special characters and punctuation\n",
    "        text = re.sub(r'[^\\w\\s]', '', text)\n",
    "        # Convert to lowercase\n",
    "        text = text.lower()\n",
    "        # Tokenization (splitting into words)\n",
    "        words = text.split()\n",
    "        # Remove stopwords and lemmatize\n",
    "        stop_words = set(stopwords.words('english'))\n",
    "        lemmatizer = WordNetLemmatizer()\n",
    "        processed_words = [lemmatizer.lemmatize(word) for word in words if word not in stop_words]\n",
    "        return ' '.join(processed_words)\n",
    "    \n",
    "    # Apply the preprocessing function to the concatenated text\n",
    "    df['prepared_text'] = df['text_for_analysis'].apply(preprocess_text)\n",
    "    \n",
    "    return df\n",
    "\n",
    "prepared_last_25_years_df = prepare_data(last_25_years_250_MB_df)"
   ]
  },
  {
   "cell_type": "code",
   "execution_count": 5,
   "id": "00904bb1",
   "metadata": {
    "scrolled": false
   },
   "outputs": [
    {
     "data": {
      "text/html": [
       "<div>\n",
       "<style scoped>\n",
       "    .dataframe tbody tr th:only-of-type {\n",
       "        vertical-align: middle;\n",
       "    }\n",
       "\n",
       "    .dataframe tbody tr th {\n",
       "        vertical-align: top;\n",
       "    }\n",
       "\n",
       "    .dataframe thead th {\n",
       "        text-align: right;\n",
       "    }\n",
       "</style>\n",
       "<table border=\"1\" class=\"dataframe\">\n",
       "  <thead>\n",
       "    <tr style=\"text-align: right;\">\n",
       "      <th></th>\n",
       "      <th>article_id</th>\n",
       "      <th>newspaper_name</th>\n",
       "      <th>edition</th>\n",
       "      <th>date</th>\n",
       "      <th>page</th>\n",
       "      <th>headline</th>\n",
       "      <th>byline</th>\n",
       "      <th>article</th>\n",
       "      <th>text_for_analysis</th>\n",
       "      <th>prepared_text</th>\n",
       "    </tr>\n",
       "  </thead>\n",
       "  <tbody>\n",
       "    <tr>\n",
       "      <th>0</th>\n",
       "      <td>1_1960-11-10_p36_sn83045462_00280608075_196011...</td>\n",
       "      <td>Evening star.</td>\n",
       "      <td>1</td>\n",
       "      <td>1960-11-10</td>\n",
       "      <td>p36</td>\n",
       "      <td>Dark Names Lockmon ,\\njansen Giont Coaches</td>\n",
       "      <td>NaN</td>\n",
       "      <td>SAN FRANCISCO. Nov. 10\\n(AP).-Alvin Dark made ...</td>\n",
       "      <td>Dark Names Lockmon ,\\njansen Giont Coaches SAN...</td>\n",
       "      <td>dark name lockmon jansen giont coach san franc...</td>\n",
       "    </tr>\n",
       "    <tr>\n",
       "      <th>1</th>\n",
       "      <td>2_1960-11-10_p36_sn83045462_00280608075_196011...</td>\n",
       "      <td>Evening star.</td>\n",
       "      <td>1</td>\n",
       "      <td>1960-11-10</td>\n",
       "      <td>p36</td>\n",
       "      <td>FALONEY FIGURES IN SWAP\\n\\n\\nEtcheverry Deal R...</td>\n",
       "      <td>NaN</td>\n",
       "      <td>head last Saturday when Mon\\ntreal lost in q c...</td>\n",
       "      <td>FALONEY FIGURES IN SWAP\\n\\n\\nEtcheverry Deal R...</td>\n",
       "      <td>faloney figure swap etcheverry deal rock conod...</td>\n",
       "    </tr>\n",
       "    <tr>\n",
       "      <th>2</th>\n",
       "      <td>3_1960-11-10_p36_sn83045462_00280608075_196011...</td>\n",
       "      <td>Evening star.</td>\n",
       "      <td>1</td>\n",
       "      <td>1960-11-10</td>\n",
       "      <td>p36</td>\n",
       "      <td>Home Ice Helps\\nChicago to Gain\\nLead in Leoque</td>\n",
       "      <td>BY the Associated Press</td>\n",
       "      <td>There's just no place like\\nhome as far as the...</td>\n",
       "      <td>Home Ice Helps\\nChicago to Gain\\nLead in Leoqu...</td>\n",
       "      <td>home ice help chicago gain lead leoque there p...</td>\n",
       "    </tr>\n",
       "    <tr>\n",
       "      <th>3</th>\n",
       "      <td>4_1960-11-10_p36_sn83045462_00280608075_196011...</td>\n",
       "      <td>Evening star.</td>\n",
       "      <td>1</td>\n",
       "      <td>1960-11-10</td>\n",
       "      <td>p36</td>\n",
       "      <td>Chamberlain\\nFires In 4o\\nAgainst LA</td>\n",
       "      <td>b the Associated rfess</td>\n",
       "      <td>Wilt Chamberlain keeps on\\nscoring baskets and...</td>\n",
       "      <td>Chamberlain\\nFires In 4o\\nAgainst LA Wilt Cham...</td>\n",
       "      <td>chamberlain fire 4o la wilt chamberlain keep s...</td>\n",
       "    </tr>\n",
       "    <tr>\n",
       "      <th>4</th>\n",
       "      <td>5_1960-11-10_p36_sn83045462_00280608075_196011...</td>\n",
       "      <td>Evening star.</td>\n",
       "      <td>1</td>\n",
       "      <td>1960-11-10</td>\n",
       "      <td>p36</td>\n",
       "      <td></td>\n",
       "      <td>NaN</td>\n",
       "      <td>raped a home run the first\\ntime he faced a ma...</td>\n",
       "      <td>raped a home run the first\\ntime he faced a m...</td>\n",
       "      <td>raped home run first time faced major league p...</td>\n",
       "    </tr>\n",
       "  </tbody>\n",
       "</table>\n",
       "</div>"
      ],
      "text/plain": [
       "                                          article_id newspaper_name  edition  \\\n",
       "0  1_1960-11-10_p36_sn83045462_00280608075_196011...  Evening star.        1   \n",
       "1  2_1960-11-10_p36_sn83045462_00280608075_196011...  Evening star.        1   \n",
       "2  3_1960-11-10_p36_sn83045462_00280608075_196011...  Evening star.        1   \n",
       "3  4_1960-11-10_p36_sn83045462_00280608075_196011...  Evening star.        1   \n",
       "4  5_1960-11-10_p36_sn83045462_00280608075_196011...  Evening star.        1   \n",
       "\n",
       "         date page                                           headline  \\\n",
       "0  1960-11-10  p36         Dark Names Lockmon ,\\njansen Giont Coaches   \n",
       "1  1960-11-10  p36  FALONEY FIGURES IN SWAP\\n\\n\\nEtcheverry Deal R...   \n",
       "2  1960-11-10  p36    Home Ice Helps\\nChicago to Gain\\nLead in Leoque   \n",
       "3  1960-11-10  p36               Chamberlain\\nFires In 4o\\nAgainst LA   \n",
       "4  1960-11-10  p36                                                      \n",
       "\n",
       "                    byline                                            article  \\\n",
       "0                      NaN  SAN FRANCISCO. Nov. 10\\n(AP).-Alvin Dark made ...   \n",
       "1                      NaN  head last Saturday when Mon\\ntreal lost in q c...   \n",
       "2  BY the Associated Press  There's just no place like\\nhome as far as the...   \n",
       "3   b the Associated rfess  Wilt Chamberlain keeps on\\nscoring baskets and...   \n",
       "4                      NaN  raped a home run the first\\ntime he faced a ma...   \n",
       "\n",
       "                                   text_for_analysis  \\\n",
       "0  Dark Names Lockmon ,\\njansen Giont Coaches SAN...   \n",
       "1  FALONEY FIGURES IN SWAP\\n\\n\\nEtcheverry Deal R...   \n",
       "2  Home Ice Helps\\nChicago to Gain\\nLead in Leoqu...   \n",
       "3  Chamberlain\\nFires In 4o\\nAgainst LA Wilt Cham...   \n",
       "4   raped a home run the first\\ntime he faced a m...   \n",
       "\n",
       "                                       prepared_text  \n",
       "0  dark name lockmon jansen giont coach san franc...  \n",
       "1  faloney figure swap etcheverry deal rock conod...  \n",
       "2  home ice help chicago gain lead leoque there p...  \n",
       "3  chamberlain fire 4o la wilt chamberlain keep s...  \n",
       "4  raped home run first time faced major league p...  "
      ]
     },
     "execution_count": 5,
     "metadata": {},
     "output_type": "execute_result"
    }
   ],
   "source": [
    "prepared_last_25_years_df.head()"
   ]
  },
  {
   "cell_type": "code",
   "execution_count": 6,
   "id": "37c0f7d5",
   "metadata": {},
   "outputs": [
    {
     "name": "stdout",
     "output_type": "stream",
     "text": [
      "12\n",
      "12\n",
      "12\n",
      "12\n",
      "12\n",
      "12\n",
      "12\n",
      "12\n",
      "12\n",
      "12\n",
      "12\n",
      "12\n",
      "12\n",
      "12\n",
      "12\n",
      "12\n",
      "12\n",
      "12\n",
      "12\n",
      "12\n",
      "12\n",
      "12\n",
      "12\n",
      "12\n",
      "12\n"
     ]
    }
   ],
   "source": [
    "prepared_last_25_years_df['date'] = pd.to_datetime(prepared_last_25_years_df['date'])\n",
    "prepared_last_25_years_df['year'] = prepared_last_25_years_df['date'].dt.year\n",
    "prepared_last_25_years_df['month'] = prepared_last_25_years_df['date'].dt.month\n",
    "prepared_last_25_years_df['day'] = prepared_last_25_years_df['date'].dt.day\n",
    "\n",
    "for year in range(1960,1935,-1):\n",
    "    print(prepared_last_25_years_df[prepared_last_25_years_df['year'] == year]['month'].nunique())"
   ]
  },
  {
   "cell_type": "code",
   "execution_count": 8,
   "id": "6b0755b6",
   "metadata": {},
   "outputs": [
    {
     "name": "stdout",
     "output_type": "stream",
     "text": [
      "File saved successfully at D:/2_nlp\\Prepared_last_25_years_250_MB_dataset.xlsx\n"
     ]
    }
   ],
   "source": [
    "directory = \"D:/2_nlp\"\n",
    "file_name = \"Prepared_last_25_years_250_MB_dataset.xlsx\"  # Adding the .xlsx extension\n",
    "\n",
    "full_path = os.path.join(directory, file_name)\n",
    "\n",
    "# Save the DataFrame as an .xlsx file\n",
    "prepared_last_25_years_df.to_excel(full_path, index=False)\n",
    "\n",
    "print(f\"File saved successfully at {full_path}\")"
   ]
  }
 ],
 "metadata": {
  "kernelspec": {
   "display_name": "Python 3 (ipykernel)",
   "language": "python",
   "name": "python3"
  },
  "language_info": {
   "codemirror_mode": {
    "name": "ipython",
    "version": 3
   },
   "file_extension": ".py",
   "mimetype": "text/x-python",
   "name": "python",
   "nbconvert_exporter": "python",
   "pygments_lexer": "ipython3",
   "version": "3.11.3"
  }
 },
 "nbformat": 4,
 "nbformat_minor": 5
}
